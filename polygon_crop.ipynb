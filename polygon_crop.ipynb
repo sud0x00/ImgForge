{
  "nbformat": 4,
  "nbformat_minor": 0,
  "metadata": {
    "colab": {
      "provenance": [],
      "authorship_tag": "ABX9TyOQaf7dLGKO2b4j705K7Ox/",
      "include_colab_link": true
    },
    "kernelspec": {
      "name": "python3",
      "display_name": "Python 3"
    },
    "language_info": {
      "name": "python"
    }
  },
  "cells": [
    {
      "cell_type": "markdown",
      "metadata": {
        "id": "view-in-github",
        "colab_type": "text"
      },
      "source": [
        "<a href=\"https://colab.research.google.com/github/sud0x00/ImgForge/blob/main/polygon_crop.ipynb\" target=\"_parent\"><img src=\"https://colab.research.google.com/assets/colab-badge.svg\" alt=\"Open In Colab\"/></a>"
      ]
    },
    {
      "cell_type": "code",
      "execution_count": 6,
      "metadata": {
        "id": "fIK-hd-IxHzu"
      },
      "outputs": [],
      "source": [
        "from PIL import Image, ImageDraw,ImageOps\n",
        "import json\n",
        "import random\n",
        "import string\n",
        "\n",
        "# Load the annotation file\n",
        "with open('/content/1405_Gayatri Nirnaya_Sharada_RaghunathTemple_Uncatalogued_Almira_9_531_1694_0003.json', 'r', encoding='utf-8') as f:\n",
        "    annotation = json.load(f)\n",
        "\n",
        "# Get the image dimensions\n",
        "image_height = annotation['imageHeight']\n",
        "image_width = annotation['imageWidth']\n",
        "\n",
        "# Open the original image\n",
        "image = Image.open('/content/1405_Gayatri Nirnaya_Sharada_RaghunathTemple_Uncatalogued_Almira_9_531_1694_0003.jpg')\n",
        "\n",
        "# Loop through each shape in the annotation\n",
        "for shape in annotation['shapes']:\n",
        "    # Extract the group ID and label\n",
        "    group_id = shape['group_id']\n",
        "    label = shape['label']\n",
        "\n",
        "    # Generate a random string of length 10\n",
        "    random_string = ''.join(random.choices(string.ascii_letters + string.digits, k=10))\n",
        "\n",
        "    # Extract the coordinates for the shape\n",
        "    coordinates = shape['points']\n",
        "\n",
        "    # Create a new image with a transparent background\n",
        "    cropped_image = Image.new('RGBA', (image_width, image_height), (0, 0, 0, 0))\n",
        "\n",
        "    # Create a draw object to draw the polygon on the new image\n",
        "    draw = ImageDraw.Draw(cropped_image)\n",
        "\n",
        "    # Convert the coordinates to integer tuples\n",
        "    int_coordinates = [(int(point[0]), int(point[1])) for point in coordinates]\n",
        "\n",
        "    # Draw the polygon on the new image\n",
        "    draw.polygon(int_coordinates, fill=(255, 255, 255, 255))\n",
        "\n",
        "    # Create a mask from the drawn polygon\n",
        "    mask = ImageOps.invert(cropped_image.convert('L'))\n",
        "\n",
        "  # Apply the mask to the original image\n",
        "    masked_image = Image.new(\"RGBA\", image.size)\n",
        "    masked_image.paste(image, (0, 0), mask=cropped_image)\n",
        "\n",
        "    # Find the bounding box of the polygon\n",
        "    bbox = masked_image.getbbox()\n",
        "\n",
        "    # Crop the masked image using the bounding box\n",
        "    if bbox:\n",
        "        cropped_image = masked_image.crop(bbox)\n",
        "\n",
        "        # Create the new filename with group ID, label, and random string\n",
        "        new_filename = f\"/content/polygons/{label}_{random_string}.png\"\n",
        "\n",
        "        # Save the cropped image\n",
        "        cropped_image.save(new_filename, format='PNG')"
      ]
    },
    {
      "cell_type": "code",
      "source": [
        "!rm -rf polygons"
      ],
      "metadata": {
        "id": "v6G41BEVwK1m"
      },
      "execution_count": 5,
      "outputs": []
    },
    {
      "cell_type": "code",
      "source": [],
      "metadata": {
        "id": "8QezZfpmw9V2"
      },
      "execution_count": null,
      "outputs": []
    }
  ]
}