{
  "nbformat": 4,
  "nbformat_minor": 0,
  "metadata": {
    "colab": {
      "provenance": [],
      "authorship_tag": "ABX9TyN6QxeXI4jbGYSogKpbngNe",
      "include_colab_link": true
    },
    "kernelspec": {
      "name": "python3",
      "display_name": "Python 3"
    },
    "language_info": {
      "name": "python"
    }
  },
  "cells": [
    {
      "cell_type": "markdown",
      "metadata": {
        "id": "view-in-github",
        "colab_type": "text"
      },
      "source": [
        "<a href=\"https://colab.research.google.com/github/sud0x00/ImgForge/blob/main/LabelMe_ImageCrop.ipynb\" target=\"_parent\"><img src=\"https://colab.research.google.com/assets/colab-badge.svg\" alt=\"Open In Colab\"/></a>"
      ]
    },
    {
      "cell_type": "markdown",
      "source": [
        "#Polygonal crop"
      ],
      "metadata": {
        "id": "73ceG_3CzajK"
      }
    },
    {
      "cell_type": "code",
      "execution_count": 6,
      "metadata": {
        "id": "fIK-hd-IxHzu"
      },
      "outputs": [],
      "source": [
        "from PIL import Image, ImageDraw,ImageOps\n",
        "import json\n",
        "import random\n",
        "import string\n",
        "\n",
        "# Load the annotation file\n",
        "with open('test.json', 'r', encoding='utf-8') as f:\n",
        "    annotation = json.load(f)\n",
        "\n",
        "# Get the image dimensions\n",
        "image_height = annotation['imageHeight']\n",
        "image_width = annotation['imageWidth']\n",
        "\n",
        "# Open the original image\n",
        "image = Image.open('test.jpg')\n",
        "\n",
        "# Loop through each shape in the annotation\n",
        "for shape in annotation['shapes']:\n",
        "    # Extract the group ID and label\n",
        "    group_id = shape['group_id']\n",
        "    label = shape['label']\n",
        "\n",
        "    # Generate a random string of length 10\n",
        "    random_string = ''.join(random.choices(string.ascii_letters + string.digits, k=10))\n",
        "\n",
        "    # Extract the coordinates for the shape\n",
        "    coordinates = shape['points']\n",
        "\n",
        "    # Create a new image with a transparent background\n",
        "    cropped_image = Image.new('RGBA', (image_width, image_height), (0, 0, 0, 0))\n",
        "\n",
        "    # Create a draw object to draw the polygon on the new image\n",
        "    draw = ImageDraw.Draw(cropped_image)\n",
        "\n",
        "    # Convert the coordinates to integer tuples\n",
        "    int_coordinates = [(int(point[0]), int(point[1])) for point in coordinates]\n",
        "\n",
        "    # Draw the polygon on the new image\n",
        "    draw.polygon(int_coordinates, fill=(255, 255, 255, 255))\n",
        "\n",
        "    # Create a mask from the drawn polygon\n",
        "    mask = ImageOps.invert(cropped_image.convert('L'))\n",
        "\n",
        "  # Apply the mask to the original image\n",
        "    masked_image = Image.new(\"RGBA\", image.size)\n",
        "    masked_image.paste(image, (0, 0), mask=cropped_image)\n",
        "\n",
        "    # Find the bounding box of the polygon\n",
        "    bbox = masked_image.getbbox()\n",
        "\n",
        "    # Crop the masked image using the bounding box\n",
        "    if bbox:\n",
        "        cropped_image = masked_image.crop(bbox)\n",
        "\n",
        "        # Create the new filename with group ID, label, and random string\n",
        "        new_filename = f\"/content/polygons/{label}_{random_string}.png\"\n",
        "\n",
        "        # Save the cropped image\n",
        "        cropped_image.save(new_filename, format='PNG')"
      ]
    },
    {
      "cell_type": "markdown",
      "source": [
        "#Rectangular Crop"
      ],
      "metadata": {
        "id": "UmSIAWH9zD56"
      }
    },
    {
      "cell_type": "code",
      "source": [
        "from PIL import Image, ImageDraw\n",
        "import json\n",
        "import random\n",
        "import string\n",
        "\n",
        "# Load the annotation file\n",
        "with open('test.json', 'r', encoding='utf-8') as f:\n",
        "    annotation = json.load(f)\n",
        "\n",
        "# Get the image dimensions\n",
        "image_height = annotation['imageHeight']\n",
        "image_width = annotation['imageWidth']\n",
        "\n",
        "# Open the original image\n",
        "image = Image.open('test.jpg')\n",
        "\n",
        "# Loop through each shape in the annotation\n",
        "for shape in annotation['shapes']:\n",
        "    # Extract the group ID and label\n",
        "    group_id = shape['group_id']\n",
        "    label = shape['label']\n",
        "\n",
        "    # Generate a random string of length 10\n",
        "    random_string = ''.join(random.choices(string.ascii_letters + string.digits, k=10))\n",
        "\n",
        "    # Extract the coordinates for the shape\n",
        "    coordinates = shape['points']\n",
        "\n",
        "    # Create a new image with a transparent background\n",
        "    cropped_image = Image.new('RGBA', (image_width, image_height), (0, 0, 0, 0))\n",
        "\n",
        "    # Create a draw object to draw the polygon on the new image\n",
        "    draw = ImageDraw.Draw(cropped_image)\n",
        "\n",
        "    # Convert the coordinates to integer tuples\n",
        "    int_coordinates = [(int(point[0]), int(point[1])) for point in coordinates]\n",
        "\n",
        "    # Draw the polygon on the new image\n",
        "    draw.polygon(int_coordinates, fill=(255, 255, 255, 255))\n",
        "\n",
        "    # Find the minimum and maximum x, y coordinates\n",
        "    x_coordinates = [point[0] for point in int_coordinates]\n",
        "    y_coordinates = [point[1] for point in int_coordinates]\n",
        "\n",
        "    left = min(x_coordinates)\n",
        "    top = min(y_coordinates)\n",
        "    right = max(x_coordinates)\n",
        "    bottom = max(y_coordinates)\n",
        "\n",
        "    # Crop the original image using the bounding box\n",
        "    cropped_image = image.crop((left, top, right, bottom))\n",
        "\n",
        "    # Create the new filename with group ID, label, and random string\n",
        "    new_filename = f\"/content/rectangles/{label}_{random_string}.png\"\n",
        "\n",
        "    # Save the cropped image\n",
        "    cropped_image.save(new_filename, format='PNG')"
      ],
      "metadata": {
        "id": "eJNlt7zFx0KK"
      },
      "execution_count": 9,
      "outputs": []
    },
    {
      "cell_type": "code",
      "source": [
        "!zip -r /content/file.zip /content/polygons"
      ],
      "metadata": {
        "id": "pJLbWFtizR3R"
      },
      "execution_count": null,
      "outputs": []
    },
    {
      "cell_type": "code",
      "source": [
        "!zip -r /content/file1.zip /content/rectangles"
      ],
      "metadata": {
        "id": "8QezZfpmw9V2"
      },
      "execution_count": null,
      "outputs": []
    },
    {
      "cell_type": "code",
      "source": [
        "from google.colab import files\n",
        "files.download(\"/content/file.zip\")\n",
        "files.download(\"/content/file1.zip\")"
      ],
      "metadata": {
        "id": "fUbfB1fPxxSp"
      },
      "execution_count": null,
      "outputs": []
    }
  ]
}